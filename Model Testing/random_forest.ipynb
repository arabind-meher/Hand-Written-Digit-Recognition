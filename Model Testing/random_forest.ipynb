{
 "cells": [
  {
   "cell_type": "markdown",
   "id": "3974b6bd-9455-448b-aad1-c6d9ddfb10c4",
   "metadata": {},
   "source": [
    "# Hand Written Digit Recognition using Random Forest Classifier\n",
    "---"
   ]
  },
  {
   "cell_type": "code",
   "execution_count": 8,
   "id": "8ef0f4b8-0965-4fcf-a2c4-f35823d4830e",
   "metadata": {},
   "outputs": [],
   "source": [
    "import numpy as np\n",
    "import pandas as pd\n",
    "import seaborn as sn\n",
    "import matplotlib.pyplot as plt\n",
    "from mlxtend.data import loadlocal_mnist\n",
    "from sklearn.ensemble import RandomForestClassifier\n",
    "from sklearn.metrics import confusion_matrix"
   ]
  },
  {
   "cell_type": "code",
   "execution_count": 9,
   "id": "dde1ae21-b18c-460f-b7e3-120da71da2c7",
   "metadata": {},
   "outputs": [
    {
     "name": "stdout",
     "output_type": "stream",
     "text": [
      "Dimension of training images: (60000, 784)\n",
      "Dimension of trainig labels: (60000,)\n",
      "Dimension of testing images: (10000, 784)\n",
      "Dimension of testing labels: (10000,)\n"
     ]
    }
   ],
   "source": [
    "# Reading Dataset\n",
    "training_images_filepath = r'dataset\\train-images.idx3-ubyte'\n",
    "training_labels_filepath = r'dataset\\train-labels.idx1-ubyte'\n",
    "testing_images_filepath = r'dataset\\t10k-images.idx3-ubyte'\n",
    "testing_labels_filepath = r'dataset\\t10k-labels.idx1-ubyte'\n",
    "\n",
    "# Converting to Traning & Test Data\n",
    "x_train, y_train = loadlocal_mnist(training_images_filepath, training_labels_filepath)\n",
    "x_test, y_test = loadlocal_mnist(testing_images_filepath, testing_labels_filepath)\n",
    "\n",
    "# Dimesity of Traning & Testing Data\n",
    "print('Dimension of training images:', np.shape(x_train))\n",
    "print('Dimension of trainig labels:',np.shape(y_train))\n",
    "print('Dimension of testing images:', np.shape(x_test))\n",
    "print('Dimension of testing labels:',np.shape(y_test))"
   ]
  },
  {
   "cell_type": "code",
   "execution_count": 10,
   "id": "4c76a95d-abb3-4994-a8cb-734a02310aa0",
   "metadata": {},
   "outputs": [
    {
     "data": {
      "text/plain": [
       "RandomForestClassifier()"
      ]
     },
     "execution_count": 10,
     "metadata": {},
     "output_type": "execute_result"
    }
   ],
   "source": [
    "# Creating Random Forest Classifier\n",
    "classifier = RandomForestClassifier()\n",
    "classifier.fit(x_train, y_train)"
   ]
  },
  {
   "cell_type": "code",
   "execution_count": 11,
   "id": "75f958ef-b75b-45fe-bbd8-07736b36447b",
   "metadata": {},
   "outputs": [
    {
     "data": {
      "text/plain": [
       "array([7, 2, 1, ..., 4, 5, 6], dtype=uint8)"
      ]
     },
     "execution_count": 11,
     "metadata": {},
     "output_type": "execute_result"
    }
   ],
   "source": [
    "# Prediction using Random Forest Classifier\n",
    "prediction = classifier.predict(x_test)\n",
    "prediction"
   ]
  },
  {
   "cell_type": "code",
   "execution_count": 12,
   "id": "2a2cb3a6-6104-4c77-87bc-de1d95b61841",
   "metadata": {},
   "outputs": [
    {
     "data": {
      "text/plain": [
       "array([[ 971,    0,    0,    0,    0,    2,    2,    1,    3,    1],\n",
       "       [   0, 1124,    1,    2,    1,    3,    2,    0,    2,    0],\n",
       "       [   6,    0, 1000,    5,    2,    0,    5,    9,    5,    0],\n",
       "       [   0,    0,   10,  971,    0,    8,    0,    9,    8,    4],\n",
       "       [   1,    0,    2,    0,  954,    0,    6,    0,    2,   17],\n",
       "       [   3,    0,    0,   11,    3,  857,    7,    2,    6,    3],\n",
       "       [   6,    3,    0,    0,    3,    3,  940,    0,    3,    0],\n",
       "       [   1,    3,   20,    2,    1,    0,    0,  986,    4,   11],\n",
       "       [   3,    0,    6,   10,    6,    5,    3,    3,  928,   10],\n",
       "       [   4,    5,    2,   10,   12,    3,    0,    4,    7,  962]],\n",
       "      dtype=int64)"
      ]
     },
     "execution_count": 12,
     "metadata": {},
     "output_type": "execute_result"
    }
   ],
   "source": [
    "# Generating Confusion Matrix using Prediction value\n",
    "c_matrix = confusion_matrix(y_test, y_pred=prediction)\n",
    "c_matrix"
   ]
  },
  {
   "cell_type": "code",
   "execution_count": 13,
   "id": "0e74a391-5389-4cc7-aada-ae1ca9dc05b6",
   "metadata": {},
   "outputs": [
    {
     "data": {
      "text/plain": [
       "Text(69.0, 0.5, 'Actual Value')"
      ]
     },
     "execution_count": 13,
     "metadata": {},
     "output_type": "execute_result"
    },
    {
     "data": {
      "image/png": "[encoded data removed]",
      "text/plain": [
       "<Figure size 720x504 with 2 Axes>"
      ]
     },
     "metadata": {
      "needs_background": "light"
     },
     "output_type": "display_data"
    }
   ],
   "source": [
    "# Generation Heatmap of Confusion Matrix\n",
    "plt.figure(figsize=(10, 7))\n",
    "sn.heatmap(c_matrix, annot=True, fmt='d')\n",
    "plt.xlabel('Predicted')\n",
    "plt.ylabel('Actual Value')"
   ]
  },
  {
   "cell_type": "code",
   "execution_count": 14,
   "id": "e8d9d5cb-d6c3-4220-9f12-d39a6a8315af",
   "metadata": {},
   "outputs": [
    {
     "name": "stdout",
     "output_type": "stream",
     "text": [
      "Accuracy: 0.9693\n"
     ]
    }
   ],
   "source": [
    "# Accuracy of Model\n",
    "print(f'Accuracy: {classifier.score(x_test, y_test)}')"
   ]
  },
  {
   "cell_type": "markdown",
   "id": "b35260ab-fe4c-4eae-9ce0-44bdf071c778",
   "metadata": {},
   "source": [
    "---"
   ]
  }
 ],
 "metadata": {
  "kernelspec": {
   "display_name": "digit",
   "language": "python",
   "name": "digit"
  },
  "language_info": {
   "codemirror_mode": {
    "name": "ipython",
    "version": 3
   },
   "file_extension": ".py",
   "mimetype": "text/x-python",
   "name": "python",
   "nbconvert_exporter": "python",
   "pygments_lexer": "ipython3",
   "version": "3.10.4"
  }
 },
 "nbformat": 4,
 "nbformat_minor": 5
}
