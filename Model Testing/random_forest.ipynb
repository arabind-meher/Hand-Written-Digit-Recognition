{
 "cells": [
  {
   "cell_type": "markdown",
   "id": "3974b6bd-9455-448b-aad1-c6d9ddfb10c4",
   "metadata": {},
   "source": [
    "# Hand Written Digit Recognition using Random Forest Classifier\n",
    "---"
   ]
  },
  {
   "cell_type": "code",
   "execution_count": 1,
   "id": "8ef0f4b8-0965-4fcf-a2c4-f35823d4830e",
   "metadata": {},
   "outputs": [],
   "source": [
    "import random\n",
    "import numpy as np\n",
    "import seaborn as sn\n",
    "import matplotlib.pyplot as plt\n",
    "from mlxtend.data import loadlocal_mnist\n",
    "from sklearn.ensemble import RandomForestClassifier\n",
    "from sklearn.metrics import confusion_matrix"
   ]
  },
  {
   "cell_type": "code",
   "execution_count": 2,
   "id": "dde1ae21-b18c-460f-b7e3-120da71da2c7",
   "metadata": {},
   "outputs": [
    {
     "name": "stdout",
     "output_type": "stream",
     "text": [
      "Dimension of training images: (60000, 784)\n",
      "Dimension of trainig labels: (60000,)\n",
      "Dimension of testing images: (10000, 784)\n",
      "Dimension of testing labels: (10000,)\n",
      "\n",
      "Dimension of *training images: (60000, 28, 28)\n",
      "Dimension of *testing images: (10000, 28, 28)\n"
     ]
    }
   ],
   "source": [
    "# Reading Dataset\n",
    "training_images_filepath = r'dataset\\train-images.idx3-ubyte'\n",
    "training_labels_filepath = r'dataset\\train-labels.idx1-ubyte'\n",
    "testing_images_filepath = r'dataset\\t10k-images.idx3-ubyte'\n",
    "testing_labels_filepath = r'dataset\\t10k-labels.idx1-ubyte'\n",
    "\n",
    "# Converting to Traning & Test Data\n",
    "x_train, y_train = loadlocal_mnist(training_images_filepath, training_labels_filepath)\n",
    "x_test, y_test = loadlocal_mnist(testing_images_filepath, testing_labels_filepath)\n",
    "\n",
    "# Reshaping Data for Ploting\n",
    "x_train_r = x_train.reshape(60000, 28, 28)\n",
    "x_test_r = x_test.reshape(10000, 28, 28)\n",
    "\n",
    "# Dimesity of Traning & Testing Data\n",
    "print('Dimension of training images:', np.shape(x_train))\n",
    "print('Dimension of trainig labels:',np.shape(y_train))\n",
    "print('Dimension of testing images:', np.shape(x_test))\n",
    "print('Dimension of testing labels:',np.shape(y_test))\n",
    "print()\n",
    "print('Dimension of *training images:', np.shape(x_train_r))\n",
    "print('Dimension of *testing images:', np.shape(x_test_r))"
   ]
  },
  {
   "cell_type": "code",
   "execution_count": 3,
   "id": "4c76a95d-abb3-4994-a8cb-734a02310aa0",
   "metadata": {},
   "outputs": [
    {
     "data": {
      "text/plain": [
       "RandomForestClassifier()"
      ]
     },
     "execution_count": 3,
     "metadata": {},
     "output_type": "execute_result"
    }
   ],
   "source": [
    "# Creating Random Forest Classifier\n",
    "classifier = RandomForestClassifier()\n",
    "classifier.fit(x_train, y_train)"
   ]
  },
  {
   "cell_type": "code",
   "execution_count": 4,
   "id": "75f958ef-b75b-45fe-bbd8-07736b36447b",
   "metadata": {},
   "outputs": [
    {
     "data": {
      "text/plain": [
       "array([7, 2, 1, ..., 4, 5, 6], dtype=uint8)"
      ]
     },
     "execution_count": 4,
     "metadata": {},
     "output_type": "execute_result"
    }
   ],
   "source": [
    "# Prediction using Random Forest Classifier\n",
    "prediction = classifier.predict(x_test)\n",
    "prediction"
   ]
  },
  {
   "cell_type": "code",
   "execution_count": 5,
   "id": "2a2cb3a6-6104-4c77-87bc-de1d95b61841",
   "metadata": {},
   "outputs": [
    {
     "data": {
      "text/plain": [
       "array([[ 972,    0,    1,    0,    0,    2,    1,    1,    3,    0],\n",
       "       [   0, 1124,    2,    3,    0,    2,    2,    1,    1,    0],\n",
       "       [   6,    0,  998,    6,    2,    0,    4,    8,    8,    0],\n",
       "       [   0,    0,    9,  973,    0,    6,    0,   11,    7,    4],\n",
       "       [   1,    0,    3,    0,  956,    0,    5,    0,    2,   15],\n",
       "       [   3,    0,    1,    6,    2,  866,    5,    2,    5,    2],\n",
       "       [   5,    3,    0,    0,    5,    3,  939,    0,    3,    0],\n",
       "       [   1,    2,   19,    0,    1,    0,    0,  990,    3,   12],\n",
       "       [   4,    0,    4,   12,    2,    3,    7,    4,  932,    6],\n",
       "       [   7,    4,    3,    9,   14,    2,    1,    5,    5,  959]],\n",
       "      dtype=int64)"
      ]
     },
     "execution_count": 5,
     "metadata": {},
     "output_type": "execute_result"
    }
   ],
   "source": [
    "# Generating Confusion Matrix using Prediction value\n",
    "c_matrix = confusion_matrix(y_test, y_pred=prediction)\n",
    "c_matrix"
   ]
  },
  {
   "cell_type": "code",
   "execution_count": 6,
   "id": "0e74a391-5389-4cc7-aada-ae1ca9dc05b6",
   "metadata": {},
   "outputs": [
    {
     "data": {
      "text/plain": [
       "Text(69.0, 0.5, 'Actual Value')"
      ]
     },
     "execution_count": 6,
     "metadata": {},
     "output_type": "execute_result"
    },
    {
     "data": {
      "image/png": "[encoded data removed]",
      "text/plain": [
       "<Figure size 720x504 with 2 Axes>"
      ]
     },
     "metadata": {
      "needs_background": "light"
     },
     "output_type": "display_data"
    }
   ],
   "source": [
    "# Generation Heatmap of Confusion Matrix\n",
    "plt.figure(figsize=(10, 7))\n",
    "sn.heatmap(c_matrix, annot=True, fmt='d')\n",
    "plt.xlabel('Predicted')\n",
    "plt.ylabel('Actual Value')"
   ]
  },
  {
   "cell_type": "code",
   "execution_count": 7,
   "id": "e8d9d5cb-d6c3-4220-9f12-d39a6a8315af",
   "metadata": {},
   "outputs": [
    {
     "name": "stdout",
     "output_type": "stream",
     "text": [
      "Accuracy: 0.9709\n"
     ]
    }
   ],
   "source": [
    "# Accuracy of Model\n",
    "print(f'Accuracy: {classifier.score(x_test, y_test)}')"
   ]
  },
  {
   "cell_type": "code",
   "execution_count": 8,
   "id": "6096528c",
   "metadata": {},
   "outputs": [
    {
     "data": {
      "image/png": "[encoded data removed]",
      "text/plain": [
       "<Figure size 1080x720 with 5 Axes>"
      ]
     },
     "metadata": {
      "needs_background": "light"
     },
     "output_type": "display_data"
    }
   ],
   "source": [
    "# Choosing 5 image to display at random\n",
    "image = list()\n",
    "title = list()\n",
    "\n",
    "for i in range(5):\n",
    "    r = random.randint(1, len(x_test_r))\n",
    "    image.append(x_test_r[r])\n",
    "    p = classifier.predict(x_test[r].reshape(1, -1))[0]\n",
    "    title.append('testing image:' + str(y_test[r]) + '\\npredicted value:' + str(p))\n",
    "\n",
    "plt.figure(figsize=(15, 10))\n",
    "position = 1\n",
    "\n",
    "for x in zip(image, title):\n",
    "    image = x[0]\n",
    "    title = x[1]\n",
    "\n",
    "    plt.subplot(2, 5, position)\n",
    "    plt.imshow(image, cmap=plt.cm.gray)\n",
    "    plt.title(title, fontsize=10)\n",
    "\n",
    "    position += 1"
   ]
  },
  {
   "cell_type": "markdown",
   "id": "b35260ab-fe4c-4eae-9ce0-44bdf071c778",
   "metadata": {},
   "source": [
    "---"
   ]
  }
 ],
 "metadata": {
  "kernelspec": {
   "display_name": "digit",
   "language": "python",
   "name": "digit"
  },
  "language_info": {
   "codemirror_mode": {
    "name": "ipython",
    "version": 3
   },
   "file_extension": ".py",
   "mimetype": "text/x-python",
   "name": "python",
   "nbconvert_exporter": "python",
   "pygments_lexer": "ipython3",
   "version": "3.10.4"
  }
 },
 "nbformat": 4,
 "nbformat_minor": 5
}
