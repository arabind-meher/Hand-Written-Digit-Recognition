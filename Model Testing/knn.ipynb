{
 "cells": [
  {
   "cell_type": "markdown",
   "id": "188afa26-6f69-4d9d-b170-ce5e751f75b9",
   "metadata": {},
   "source": [
    "# Hand Written Digit Recognition using k-Nearest Neighbour Classifier\n",
    "---"
   ]
  },
  {
   "cell_type": "code",
   "execution_count": 1,
   "id": "dd3b6279-8b21-4164-a8ef-59e841e7fe68",
   "metadata": {},
   "outputs": [],
   "source": [
    "import numpy as np\n",
    "import pandas as pd\n",
    "import seaborn as sn\n",
    "import matplotlib.pyplot as plt\n",
    "from mlxtend.data import loadlocal_mnist\n",
    "from sklearn.neighbors import KNeighborsClassifier\n",
    "from sklearn.metrics import confusion_matrix"
   ]
  },
  {
   "cell_type": "code",
   "execution_count": 2,
   "id": "c0c21484-ff1f-473f-8ba2-45e7982ed8da",
   "metadata": {},
   "outputs": [
    {
     "name": "stdout",
     "output_type": "stream",
     "text": [
      "Dimension of training images: (60000, 784)\n",
      "Dimension of trainig labels: (60000,)\n",
      "Dimension of testing images: (10000, 784)\n",
      "Dimension of testing labels: (10000,)\n"
     ]
    }
   ],
   "source": [
    "# Reading Dataset\n",
    "training_images_filepath = r'dataset\\train-images.idx3-ubyte'\n",
    "training_labels_filepath = r'dataset\\train-labels.idx1-ubyte'\n",
    "testing_images_filepath = r'dataset\\t10k-images.idx3-ubyte'\n",
    "testing_labels_filepath = r'dataset\\t10k-labels.idx1-ubyte'\n",
    "\n",
    "# Converting to Traning & Test Data\n",
    "x_train, y_train = loadlocal_mnist(training_images_filepath, training_labels_filepath)\n",
    "x_test, y_test = loadlocal_mnist(testing_images_filepath, testing_labels_filepath)\n",
    "\n",
    "# Dimesity of Traning & Testing Data\n",
    "print('Dimension of training images:', np.shape(x_train))\n",
    "print('Dimension of trainig labels:',np.shape(y_train))\n",
    "print('Dimension of testing images:', np.shape(x_test))\n",
    "print('Dimension of testing labels:',np.shape(y_test))"
   ]
  },
  {
   "cell_type": "code",
   "execution_count": 3,
   "id": "1e97962f-e2aa-41b7-942e-5598b52402a0",
   "metadata": {},
   "outputs": [
    {
     "data": {
      "text/plain": [
       "KNeighborsClassifier()"
      ]
     },
     "execution_count": 3,
     "metadata": {},
     "output_type": "execute_result"
    }
   ],
   "source": [
    "# Creating a KNN Classifier\n",
    "classifier = KNeighborsClassifier()\n",
    "classifier.fit(x_train, y_train)"
   ]
  },
  {
   "cell_type": "code",
   "execution_count": 4,
   "id": "91faa539-eecf-40eb-a6bc-27142deda485",
   "metadata": {},
   "outputs": [
    {
     "data": {
      "text/plain": [
       "array([7, 2, 1, ..., 4, 5, 6], dtype=uint8)"
      ]
     },
     "execution_count": 4,
     "metadata": {},
     "output_type": "execute_result"
    }
   ],
   "source": [
    "# Prediction using KNN Classifier\n",
    "prediction = classifier.predict(x_test)\n",
    "prediction"
   ]
  },
  {
   "cell_type": "code",
   "execution_count": 5,
   "id": "5fd01170-e8b9-4eef-8776-77fe747ed433",
   "metadata": {},
   "outputs": [
    {
     "data": {
      "text/plain": [
       "array([[ 974,    1,    1,    0,    0,    1,    2,    1,    0,    0],\n",
       "       [   0, 1133,    2,    0,    0,    0,    0,    0,    0,    0],\n",
       "       [  11,    8,  991,    2,    1,    0,    1,   15,    3,    0],\n",
       "       [   0,    3,    3,  976,    1,   13,    1,    6,    3,    4],\n",
       "       [   3,    7,    0,    0,  944,    0,    4,    2,    1,   21],\n",
       "       [   5,    0,    0,   12,    2,  862,    4,    1,    2,    4],\n",
       "       [   5,    3,    0,    0,    3,    2,  945,    0,    0,    0],\n",
       "       [   0,   22,    4,    0,    3,    0,    0,  988,    0,   11],\n",
       "       [   8,    3,    5,   13,    6,   12,    5,    5,  913,    4],\n",
       "       [   5,    7,    3,    9,    7,    3,    1,   10,    2,  962]],\n",
       "      dtype=int64)"
      ]
     },
     "execution_count": 5,
     "metadata": {},
     "output_type": "execute_result"
    }
   ],
   "source": [
    "# Generating Confusion Matrix using Prediction value\n",
    "c_matrix = confusion_matrix(y_test, y_pred=prediction)\n",
    "c_matrix"
   ]
  },
  {
   "cell_type": "code",
   "execution_count": 6,
   "id": "b728d891-19a4-4ddd-971c-fb23880435bd",
   "metadata": {},
   "outputs": [
    {
     "data": {
      "text/plain": [
       "Text(69.0, 0.5, 'Actual Value')"
      ]
     },
     "execution_count": 6,
     "metadata": {},
     "output_type": "execute_result"
    },
    {
     "data": {
      "image/png": "[encoded data removed]",
      "text/plain": [
       "<Figure size 720x504 with 2 Axes>"
      ]
     },
     "metadata": {
      "needs_background": "light"
     },
     "output_type": "display_data"
    }
   ],
   "source": [
    "# Generation Heatmap of Confusion Matrix\n",
    "plt.figure(figsize=(10, 7))\n",
    "sn.heatmap(c_matrix, annot=True, fmt='d')\n",
    "plt.xlabel('Predicted')\n",
    "plt.ylabel('Actual Value')"
   ]
  },
  {
   "cell_type": "code",
   "execution_count": 7,
   "id": "e168b333-9f0d-4249-a8e8-532122fa51f8",
   "metadata": {},
   "outputs": [
    {
     "name": "stdout",
     "output_type": "stream",
     "text": [
      "Accuracy: 0.9688\n"
     ]
    }
   ],
   "source": [
    "# Accuracy of Model\n",
    "print(f'Accuracy: {classifier.score(x_test, y_test)}')"
   ]
  },
  {
   "cell_type": "markdown",
   "id": "b963932e-ab11-4e82-9223-61656d887321",
   "metadata": {},
   "source": [
    "---"
   ]
  }
 ],
 "metadata": {
  "kernelspec": {
   "display_name": "digit",
   "language": "python",
   "name": "digit"
  },
  "language_info": {
   "codemirror_mode": {
    "name": "ipython",
    "version": 3
   },
   "file_extension": ".py",
   "mimetype": "text/x-python",
   "name": "python",
   "nbconvert_exporter": "python",
   "pygments_lexer": "ipython3",
   "version": "3.10.4"
  }
 },
 "nbformat": 4,
 "nbformat_minor": 5
}
