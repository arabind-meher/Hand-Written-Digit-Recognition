{
 "cells": [
  {
   "cell_type": "markdown",
   "id": "e5541204-dd8b-45a0-b995-1bbc95c899d4",
   "metadata": {},
   "source": [
    "# Reading MNIST Dataset\n",
    "Data Source: http://yann.lecun.com/exdb/mnist/ <br>\n",
    "Code Source: https://www.kaggle.com/code/n4srin/read-and-show-mnist-data/notebook (modified)"
   ]
  },
  {
   "cell_type": "code",
   "execution_count": 1,
   "id": "d256a54e-0b0e-491a-92f8-383a7c876b51",
   "metadata": {},
   "outputs": [],
   "source": [
    "from os import listdir\n",
    "from os.path import join\n",
    "import random\n",
    "\n",
    "import numpy as np\n",
    "import pandas as pd\n",
    "import matplotlib.pyplot as plt\n",
    "from mlxtend.data import loadlocal_mnist"
   ]
  },
  {
   "cell_type": "code",
   "execution_count": 2,
   "id": "3f41f646-6f50-457c-89d4-e00299798ea8",
   "metadata": {},
   "outputs": [
    {
     "name": "stdout",
     "output_type": "stream",
     "text": [
      "..\\dataset\\t10k-images.idx3-ubyte\n",
      "..\\dataset\\t10k-labels.idx1-ubyte\n",
      "..\\dataset\\train-images.idx3-ubyte\n",
      "..\\dataset\\train-labels.idx1-ubyte\n"
     ]
    }
   ],
   "source": [
    "# Getting file path\n",
    "path = join('..', 'dataset')\n",
    "for filename in listdir(path):\n",
    "    print(join(path, filename))"
   ]
  },
  {
   "cell_type": "code",
   "execution_count": 3,
   "id": "ed058e78-ccf6-462d-9bff-75a2fcfa4a4f",
   "metadata": {},
   "outputs": [],
   "source": [
    "# Assigining varirables to file path\n",
    "training_image = r'..\\dataset\\train-images.idx3-ubyte'\n",
    "training_label = r'..\\dataset\\train-labels.idx1-ubyte'\n",
    "testing_image = r'..\\dataset\\t10k-images.idx3-ubyte'\n",
    "testing_label = r'..\\dataset\\t10k-labels.idx1-ubyte'"
   ]
  },
  {
   "cell_type": "code",
   "execution_count": 4,
   "id": "88c89708-7710-4da7-a2d7-c14bc0c9c895",
   "metadata": {},
   "outputs": [],
   "source": [
    "x_train, y_train = loadlocal_mnist(training_image, training_label)\n",
    "x_test, y_test = loadlocal_mnist(testing_image, testing_label)"
   ]
  },
  {
   "cell_type": "code",
   "execution_count": 5,
   "id": "21098e61-428d-4fa4-8e21-0deb0332f113",
   "metadata": {},
   "outputs": [
    {
     "name": "stdout",
     "output_type": "stream",
     "text": [
      "Dimension of training images: (60000, 784)\n",
      "Dimension of trainig labels: (60000,)\n",
      "Dimension of testing images: (10000, 784)\n",
      "Dimension of testing labels: (10000,)\n"
     ]
    }
   ],
   "source": [
    "print('Dimension of training images:', np.shape(x_train))\n",
    "print('Dimension of trainig labels:',np.shape(y_train))\n",
    "print('Dimension of testing images:', np.shape(x_test))\n",
    "print('Dimension of testing labels:',np.shape(y_test))"
   ]
  },
  {
   "cell_type": "code",
   "execution_count": 6,
   "id": "018f0651-a090-4041-b410-6fa8e0b4280c",
   "metadata": {},
   "outputs": [],
   "source": [
    "# reshape the arrays:\n",
    "x_train = x_train.reshape(60000, 28, 28)\n",
    "x_test = x_test.reshape(10000, 28, 28)"
   ]
  },
  {
   "cell_type": "code",
   "execution_count": 7,
   "id": "fcf57244-3ca8-4eb5-95ce-c9e558b1128b",
   "metadata": {},
   "outputs": [
    {
     "name": "stdout",
     "output_type": "stream",
     "text": [
      "Dimension of training images: (60000, 28, 28)\n",
      "Dimension of testing images: (10000, 28, 28)\n"
     ]
    }
   ],
   "source": [
    "print('Dimension of training images:', np.shape(x_train))\n",
    "print('Dimension of testing images:', np.shape(x_test))"
   ]
  },
  {
   "cell_type": "code",
   "execution_count": 8,
   "id": "26cdec99-10cf-4d5e-b10b-057ca564ef62",
   "metadata": {},
   "outputs": [],
   "source": [
    "def show(image, title):\n",
    "    index = 1 \n",
    "    plt.figure(figsize=(10,5))\n",
    "\n",
    "    for x in zip(image, title):        \n",
    "        image = x[0]        \n",
    "        title = x[1]\n",
    "        plt.subplot(2, 5, index)        \n",
    "        plt.imshow(image, cmap=plt.cm.gray)  \n",
    "        plt.title(x[1], fontsize = 9)\n",
    "        index += 1"
   ]
  },
  {
   "cell_type": "code",
   "execution_count": 9,
   "id": "867cd717-ad5a-45bc-a7d8-99b2e4e2497e",
   "metadata": {},
   "outputs": [
    {
     "data": {
      "image/png": "[encoded data removed]",
      "text/plain": [
       "<Figure size 1000x500 with 10 Axes>"
      ]
     },
     "metadata": {},
     "output_type": "display_data"
    }
   ],
   "source": [
    "image = []\n",
    "title = []\n",
    "\n",
    "for i in range(0, 5):\n",
    "    r = random.randint(1, len(x_train))\n",
    "    image.append(x_train[r])\n",
    "    title.append('training image:' + str(y_train[r]))       \n",
    "\n",
    "for i in range(0, 5):\n",
    "    r = random.randint(1, len(x_test))\n",
    "    image.append(x_test[r])\n",
    "    title.append('testing image:' + str(y_test[r]))\n",
    "    \n",
    "show(image, title)"
   ]
  },
  {
   "cell_type": "markdown",
   "id": "86a15d2f",
   "metadata": {},
   "source": [
    "---"
   ]
  }
 ],
 "metadata": {
  "kernelspec": {
   "display_name": "virtual",
   "language": "python",
   "name": "virtual"
  },
  "language_info": {
   "codemirror_mode": {
    "name": "ipython",
    "version": 3
   },
   "file_extension": ".py",
   "mimetype": "text/x-python",
   "name": "python",
   "nbconvert_exporter": "python",
   "pygments_lexer": "ipython3",
   "version": "3.10.9"
  }
 },
 "nbformat": 4,
 "nbformat_minor": 5
}
