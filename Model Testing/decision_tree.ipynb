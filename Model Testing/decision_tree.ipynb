{
 "cells": [
  {
   "cell_type": "markdown",
   "id": "4d9d544e-3215-4903-b0fd-ae0b84ce5c1f",
   "metadata": {},
   "source": [
    "# Hand Written Digit Recognition using Decision Tree Classifier\n",
    "---"
   ]
  },
  {
   "cell_type": "code",
   "execution_count": 1,
   "id": "aa0c5244-89c8-408b-9041-e18d1428a0b9",
   "metadata": {},
   "outputs": [],
   "source": [
    "import random\n",
    "import numpy as np\n",
    "import seaborn as sn\n",
    "import matplotlib.pyplot as plt\n",
    "from mlxtend.data import loadlocal_mnist\n",
    "from sklearn.tree import DecisionTreeClassifier\n",
    "from sklearn.metrics import confusion_matrix"
   ]
  },
  {
   "cell_type": "code",
   "execution_count": 2,
   "id": "873d4509-95f4-49c1-8872-66736caa4dde",
   "metadata": {},
   "outputs": [
    {
     "name": "stdout",
     "output_type": "stream",
     "text": [
      "Dimension of training images: (60000, 784)\n",
      "Dimension of trainig labels: (60000,)\n",
      "Dimension of testing images: (10000, 784)\n",
      "Dimension of testing labels: (10000,)\n",
      "\n",
      "Dimension of *training images: (60000, 28, 28)\n",
      "Dimension of *testing images: (10000, 28, 28)\n"
     ]
    }
   ],
   "source": [
    "# Reading Dataset\n",
    "training_images_filepath = r'dataset\\train-images.idx3-ubyte'\n",
    "training_labels_filepath = r'dataset\\train-labels.idx1-ubyte'\n",
    "testing_images_filepath = r'dataset\\t10k-images.idx3-ubyte'\n",
    "testing_labels_filepath = r'dataset\\t10k-labels.idx1-ubyte'\n",
    "\n",
    "# Converting to Traning & Test Data\n",
    "x_train, y_train = loadlocal_mnist(training_images_filepath, training_labels_filepath)\n",
    "x_test, y_test = loadlocal_mnist(testing_images_filepath, testing_labels_filepath)\n",
    "\n",
    "# Reshaping Data for Ploting\n",
    "x_train_r = x_train.reshape(60000, 28, 28)\n",
    "x_test_r = x_test.reshape(10000, 28, 28)\n",
    "\n",
    "# Dimesity of Traning & Testing Data\n",
    "print('Dimension of training images:', np.shape(x_train))\n",
    "print('Dimension of trainig labels:',np.shape(y_train))\n",
    "print('Dimension of testing images:', np.shape(x_test))\n",
    "print('Dimension of testing labels:',np.shape(y_test))\n",
    "print()\n",
    "print('Dimension of *training images:', np.shape(x_train_r))\n",
    "print('Dimension of *testing images:', np.shape(x_test_r))"
   ]
  },
  {
   "cell_type": "code",
   "execution_count": 3,
   "id": "f3842288-7cbd-4e33-b541-9389ceb999cd",
   "metadata": {},
   "outputs": [],
   "source": [
    "# Creating Decision Tree Classifier\n",
    "classifier = DecisionTreeClassifier()\n",
    "classifier.fit(x_train, y_train)"
   ]
  },
  {
   "cell_type": "code",
   "execution_count": null,
   "id": "c4d36d65-ff7a-4f41-ba0b-8fba3d6ab4d5",
   "metadata": {},
   "outputs": [],
   "source": [
    "# Prediction using Decision Tree Classifier\n",
    "prediction = classifier.predict(x_test)\n",
    "prediction"
   ]
  },
  {
   "cell_type": "code",
   "execution_count": null,
   "id": "7fefd2c7-c81c-425c-9768-6fe1fb8a7ae3",
   "metadata": {},
   "outputs": [],
   "source": [
    "# Generating Confusion Matrix using Prediction value\n",
    "c_matrix = confusion_matrix(y_test, y_pred=prediction)\n",
    "c_matrix"
   ]
  },
  {
   "cell_type": "code",
   "execution_count": null,
   "id": "2edaf8f2-3299-4492-92d3-4f986cb77cc2",
   "metadata": {},
   "outputs": [],
   "source": [
    "# Generation Heatmap of Confusion Matrix\n",
    "plt.figure(figsize=(10, 7))\n",
    "sn.heatmap(c_matrix, annot=True, fmt='d')\n",
    "plt.xlabel('Predicted')\n",
    "plt.ylabel('Actual Value')"
   ]
  },
  {
   "cell_type": "code",
   "execution_count": null,
   "id": "bcc7240c-67a8-460c-bf80-bdff9dbc120a",
   "metadata": {},
   "outputs": [],
   "source": [
    "# Accuracy of Model\n",
    "print(f'Accuracy: {classifier.score(x_test, y_test)}')"
   ]
  },
  {
   "cell_type": "code",
   "execution_count": null,
   "id": "10efb7fd-9725-4979-8a00-a19c47c4ce70",
   "metadata": {},
   "outputs": [],
   "source": [
    "# Choosing 5 image to display at random\n",
    "image = list()\n",
    "title = list()\n",
    "\n",
    "for i in range(5):\n",
    "    r = random.randint(1, len(x_test_r))\n",
    "    image.append(x_test_r[r])\n",
    "    p = classifier.predict(x_test[r].reshape(1, -1))[0]\n",
    "    title.append('testing image:' + str(y_test[r]) + '\\npredicted value:' + str(p))\n",
    "\n",
    "plt.figure(figsize=(15, 10))\n",
    "position = 1\n",
    "\n",
    "for x in zip(image, title):\n",
    "    image = x[0]\n",
    "    title = x[1]\n",
    "\n",
    "    plt.subplot(2, 5, position)\n",
    "    plt.imshow(image, cmap=plt.cm.gray)\n",
    "    plt.title(title, fontsize=10)\n",
    "\n",
    "    position += 1"
   ]
  },
  {
   "cell_type": "markdown",
   "id": "4d7ca4a7-a3c0-4f62-bfe7-55f262e2180e",
   "metadata": {},
   "source": [
    "---"
   ]
  }
 ],
 "metadata": {
  "interpreter": {
   "hash": "32fba79cb9cc52fe910bde55d376d477e6c3d7f2221e560b3c918070d607264d"
  },
  "kernelspec": {
   "display_name": "digit",
   "language": "python",
   "name": "python3"
  },
  "language_info": {
   "codemirror_mode": {
    "name": "ipython",
    "version": 3
   },
   "file_extension": ".py",
   "mimetype": "text/x-python",
   "name": "python",
   "nbconvert_exporter": "python",
   "pygments_lexer": "ipython3",
   "version": "3.10.4"
  }
 },
 "nbformat": 4,
 "nbformat_minor": 5
}
